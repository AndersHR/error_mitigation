{
 "cells": [
  {
   "cell_type": "code",
   "execution_count": 1,
   "metadata": {},
   "outputs": [],
   "source": [
    "from qiskit import *\n",
    "from zero_noise_extrapolation import *\n",
    "import numpy as np\n",
    "import pylab as pl"
   ]
  },
  {
   "cell_type": "code",
   "execution_count": 2,
   "metadata": {},
   "outputs": [],
   "source": [
    "import sys\n",
    "sys.path.append('../')\n",
    "\n",
    "from qiskit_utilities.utilities import *"
   ]
  },
  {
   "cell_type": "code",
   "execution_count": 3,
   "metadata": {},
   "outputs": [],
   "source": [
    "# show all output\n",
    "from IPython.core.interactiveshell import InteractiveShell\n",
    "InteractiveShell.ast_node_interactivity = \"all\""
   ]
  },
  {
   "cell_type": "code",
   "execution_count": 4,
   "metadata": {},
   "outputs": [
    {
     "data": {
      "image/png": "[encoded data removed]",
      "text/plain": [
       "<Figure size 1119.72x385.28 with 1 Axes>"
      ]
     },
     "execution_count": 4,
     "metadata": {},
     "output_type": "execute_result"
    }
   ],
   "source": [
    "def get_maxs_poker_circuit(usebarrier=False, measure=True, applynotpos=-1):\n",
    "    circ = \"OPENQASM 2.0;\\ninclude \\\"qelib1.inc\\\"; \\\n",
    "    qreg q[5];\\\n",
    "    creg c[5];\"\n",
    "    if applynotpos>-1 and applynotpos<5:\n",
    "        circ = circ + \"x q[\"+str(applynotpos)+\"];\"\n",
    "    circ = circ + \"x q[0];\\\n",
    "    x q[1];\\\n",
    "    h q[3];\\\n",
    "    z q[3];\\\n",
    "    h q[4];\\\n",
    "    z q[4];\\\n",
    "    cx q[0],q[2];\\\n",
    "    cx q[1],q[2];\\\n",
    "    cx q[4],q[1];\\\n",
    "    cx q[0],q[4];\\\n",
    "    cx q[2],q[4];\"\n",
    "    if usebarrier:\n",
    "        circ = circ + \"barrier q[0],q[1],q[2],q[3],q[4]; \"\n",
    "    circ = circ + \"x q[2];\\\n",
    "    z q[3];\\\n",
    "    h q[3];\\\n",
    "    cx q[2],q[3];\"\n",
    "    if usebarrier:\n",
    "        circ = circ + \"barrier q[0],q[1],q[2],q[3],q[4]; \"\n",
    "    if measure:\n",
    "        circ = circ + \"measure q[0] -> c[0]; \\\n",
    "        measure q[1] -> c[1]; \\\n",
    "        measure q[2] -> c[2]; \\\n",
    "        measure q[3] -> c[3]; \\\n",
    "        measure q[4] -> c[4]; \"\n",
    "    qc = QuantumCircuit.from_qasm_str(circ)\n",
    "    return qc\n",
    "\n",
    "get_maxs_poker_circuit(True).draw(output='mpl')"
   ]
  },
  {
   "cell_type": "code",
   "execution_count": 5,
   "metadata": {},
   "outputs": [],
   "source": [
    "backends_dict={}\n",
    "noisemodels_dict={}\n",
    "basis_gates_dict={}\n",
    "cx_error_maps_dict={}"
   ]
  },
  {
   "cell_type": "code",
   "execution_count": 6,
   "metadata": {},
   "outputs": [
    {
     "data": {
      "text/plain": [
       "<AccountProvider for IBMQ(hub='ibm-q', group='open', project='main')>"
      ]
     },
     "execution_count": 6,
     "metadata": {},
     "output_type": "execute_result"
    }
   ],
   "source": [
    "backendname_sim = 'qasm_simulator'\n",
    "backends_dict[backendname_sim] = Aer.get_backend(backendname_sim)\n",
    "\n",
    "#load IBMQ account\n",
    "#IBMQ.save_account('yourAPItoken')\n",
    "IBMQ.load_account()\n",
    "provider = IBMQ.get_provider(hub='ibm-q')\n",
    "\n",
    "backendname_x2 = 'ibmqx2'\n",
    "backendname_ourense = 'ibmq_ourense'\n",
    "\n",
    "for backendname in [backendname_x2, backendname_ourense]:\n",
    "    backends_dict[backendname] = provider.get_backend(backendname)"
   ]
  },
  {
   "cell_type": "code",
   "execution_count": 7,
   "metadata": {},
   "outputs": [],
   "source": [
    "from qiskit.providers.aer.noise import NoiseModel\n",
    "from qiskit.providers.aer.noise.device import basic_device_noise_model\n",
    "\n",
    "for backendname in [backendname_x2, backendname_ourense]:\n",
    "    backend = backends_dict[backendname]\n",
    "\n",
    "    noisemodels_dict[backendname] = basic_device_noise_model(backend.properties())\n",
    "    cx_error_maps_dict[backendname] = get_cx_error_map(backend)\n",
    "    basis_gates_dict[backendname] = noisemodels_dict[backendname].basis_gates\n",
    "\n",
    "noisemodels_dict['None'] = None"
   ]
  },
  {
   "cell_type": "code",
   "execution_count": 8,
   "metadata": {},
   "outputs": [],
   "source": [
    "numones=np.zeros((2**5,1))\n",
    "for i in range(2**5):\n",
    "    numones[i]=bin(i).count(\"1\")"
   ]
  },
  {
   "cell_type": "code",
   "execution_count": 9,
   "metadata": {},
   "outputs": [],
   "source": [
    "def expectationValue(results, myfilter=None):\n",
    "    #num_qubits = results[0].header.n_qubits\n",
    "    E=np.zeros((len(results),1))\n",
    "    if myfilter==None:\n",
    "        for item in range(0,len(results)):\n",
    "            shots = results[item].shots\n",
    "            counts = results[item].data.counts\n",
    "            for key in list(counts.__dict__.keys()):\n",
    "                c=getattr(counts, key)#number of counts\n",
    "                E[item] += numones[int(key,0)]*c/shots\n",
    "    else:\n",
    "        binres=convert_to_binarystring(results)\n",
    "        for item in range(0,len(results)):\n",
    "            binresfilt=myfilter.apply(binres[item])\n",
    "            shots = results[item].shots\n",
    "            for key in binresfilt:\n",
    "                E[item] += numones[int(str(key),2)]*binresfilt[key]/shots\n",
    "    return E"
   ]
  },
  {
   "cell_type": "code",
   "execution_count": null,
   "metadata": {},
   "outputs": [
    {
     "name": "stdout",
     "output_type": "stream",
     "text": [
      "Sanity checks passed\n",
      "Result for job ' Poker_backendqasm_simulator_noisemodelibmqx2_shots8192_experiments1024_paulitwirlingTrue_r1 ' successfully read from disk\n",
      "Result for job ' Poker_backendqasm_simulator_noisemodelibmqx2_shots8192_experiments1024_paulitwirlingTrue_r2 ' successfully read from disk\n",
      "Could not read result for job ' Poker_backendqasm_simulator_noisemodelibmqx2_shots8192_experiments1024_paulitwirlingTrue_r4 ' from disk\n",
      "Creating circuits for ' Poker_backendqasm_simulator_noisemodelibmqx2_shots8192_experiments1024_paulitwirlingTrue_r4 ' 1024 / 1024\n",
      "Starting job for ' Poker_backendqasm_simulator_noisemodelibmqx2_shots8192_experiments1024_paulitwirlingTrue_r4 '\n",
      "Job Status: job is actively running"
     ]
    }
   ],
   "source": [
    "R,E_dict,E_av_dict,max_depth_dict,mean_depth_dict,max_depth_transpiled_dict,mean_depth_transpiled_dict =\\\n",
    "mitigate(get_maxs_poker_circuit(), [1,2,4],\\\n",
    "             expectationValue,\\\n",
    "             backends_dict[backendname_sim], \\\n",
    "             \"Poker\", cx_error_maps_dict[backendname_x2],\\\n",
    "             8192, 1024,\\\n",
    "             backends_dict[backendname_x2],\\\n",
    "             noisemodels_dict[backendname_x2],\\\n",
    "             basis_gates_dict[backendname_x2],\\\n",
    "             )"
   ]
  },
  {
   "cell_type": "code",
   "execution_count": null,
   "metadata": {},
   "outputs": [],
   "source": [
    "bn=\"Poker_backendqasm_simulator_noisemodelibmqx2_shots8192_experiments1024_paulitwirlingTrue_r\""
   ]
  },
  {
   "cell_type": "code",
   "execution_count": null,
   "metadata": {
    "scrolled": true
   },
   "outputs": [],
   "source": [
    "font = {'size' : 16}\n",
    "pl.matplotlib.rc('font', **font);\n",
    "f = pl.figure(figsize=(10, 6), dpi= 80, facecolor='w', edgecolor='k');\n",
    "pl.plot(4+0*E_av_dict[bn+\"1\"],'k',label='ideal')\n",
    "pl.plot(E_av_dict[bn+\"1\"],label='r=1')\n",
    "pl.plot(E_av_dict[bn+\"2\"],':',label='r=2')\n",
    "pl.plot(E_av_dict[bn+\"4\"],':',label='r=4')\n",
    "R12=Richardson_extrapolate(np.array([E_av_dict[bn+\"1\"], E_av_dict[bn+\"2\"]]),np.array([1,2]))\n",
    "pl.plot(R12[0],label='R(E1,E2)')\n",
    "pl.plot(R,label='R(E1,E2,E4)')\n",
    "pl.legend()"
   ]
  },
  {
   "cell_type": "code",
   "execution_count": null,
   "metadata": {},
   "outputs": [],
   "source": [
    "xmin=0.95\n",
    "numbins=100\n",
    "d=pl.hist(E_dict[bn+\"1\"],edgecolor = 'black',color='green',range=(xmin,4.05),bins=numbins,\\\n",
    "                 alpha=.75,histtype='stepfilled',label='r=1')\n",
    "d=pl.hist(E_dict[bn+\"4\"],edgecolor = 'black',color='blue',range=(xmin,4.05),bins=numbins,\\\n",
    "                 alpha=0.5,histtype='stepfilled',label='r=4')"
   ]
  },
  {
   "cell_type": "code",
   "execution_count": null,
   "metadata": {},
   "outputs": [],
   "source": [
    "pl.plot((mean_depth_dict[bn+\"1\"],\\\n",
    "        mean_depth_dict[bn+\"2\"],\\\n",
    "        mean_depth_dict[bn+\"4\"]),label='mean depth')\n",
    "pl.plot((mean_depth_transpiled_dict[bn+\"1\"],\\\n",
    "        mean_depth_transpiled_dict[bn+\"2\"],\\\n",
    "        mean_depth_transpiled_dict[bn+\"4\"]),label='mean depth after combining single qubit gates')\n",
    "pl.legend()"
   ]
  }
 ],
 "metadata": {
  "kernelspec": {
   "display_name": "Python 3",
   "language": "python",
   "name": "python3"
  },
  "language_info": {
   "codemirror_mode": {
    "name": "ipython",
    "version": 3
   },
   "file_extension": ".py",
   "mimetype": "text/x-python",
   "name": "python",
   "nbconvert_exporter": "python",
   "pygments_lexer": "ipython3",
   "version": "3.7.6"
  }
 },
 "nbformat": 4,
 "nbformat_minor": 4
}
